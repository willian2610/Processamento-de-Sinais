{
  "nbformat": 4,
  "nbformat_minor": 0,
  "metadata": {
    "colab": {
      "name": "Convolução discreta.ipynb",
      "provenance": [],
      "authorship_tag": "ABX9TyNeoIBU8UMLrUStTP/PxAtv",
      "include_colab_link": true
    },
    "kernelspec": {
      "name": "python3",
      "display_name": "Python 3"
    },
    "language_info": {
      "name": "python"
    }
  },
  "cells": [
    {
      "cell_type": "markdown",
      "metadata": {
        "id": "view-in-github",
        "colab_type": "text"
      },
      "source": [
        "<a href=\"https://colab.research.google.com/github/willian2610/Processamento-de-Sinais/blob/master/Convolu%C3%A7%C3%A3o%20Discreta.ipynb\" target=\"_parent\"><img src=\"https://colab.research.google.com/assets/colab-badge.svg\" alt=\"Open In Colab\"/></a>"
      ]
    },
    {
      "cell_type": "markdown",
      "metadata": {
        "id": "jpx9RE7TFCUY"
      },
      "source": [
        "Implementação manual da convolução entre dois sinais discretos e da plotagem do resultado."
      ]
    },
    {
      "cell_type": "code",
      "metadata": {
        "id": "Ovzp69SKYGwN"
      },
      "source": [
        "import numpy as np\n",
        "from matplotlib import pyplot as plt\n",
        "from matplotlib import ticker as tck\n",
        "\n",
        "plt.style.use('ggplot')"
      ],
      "execution_count": 156,
      "outputs": []
    },
    {
      "cell_type": "code",
      "metadata": {
        "id": "dP6_pE0avix6"
      },
      "source": [
        "def manual_convolution(x1_n, x2_n):\n",
        "    # Definition of the result list\n",
        "    result = []\n",
        "    #Size of convolution result list\n",
        "    result_len = len(x1_n)+len(x2_n)-1 \n",
        "\n",
        "    for n in range(result_len):\n",
        "        aux_sum = 0\n",
        "        for k in range(len(x1_n)):\n",
        "            # Guarantee taht there is no overlaps\n",
        "            if (n-k >= 0) and (len(x2_n) > n-k):\n",
        "                # Convolution's definition\n",
        "                aux_sum += x1_n[k] * x2_n[n-k] \n",
        "        \n",
        "        # Add the step result to the result list\n",
        "        result.append(aux_sum)\n",
        "\n",
        "    return result\n",
        "\n",
        "def convolution_plotter(x1_n, n1, x2_n, n2):\n",
        "\n",
        "  # Define the first index for the convolution plotting\n",
        "  if(n1[0]<n2[0]):\n",
        "    start_index = (n1[0]-n2[0])\n",
        "  else:\n",
        "    start_index = (n2[0]-n1[0])\n",
        "\n",
        "  # Executing the convolution\n",
        "  y_n = manual_convolution(x1_n, x2_n)\n",
        "  n3 = list(range(start_index, len(y_n)+(start_index)))\n",
        "\n",
        "  # Plotting results\n",
        "  plt.rcParams['figure.figsize'] = (15, 3)\n",
        "\n",
        "  plt.subplot(1,3,1)\n",
        "  plt.title(\"$x1[n]$\")\n",
        "  plt.stem(n1, x1_n, 'b',use_line_collection=True)\n",
        "\n",
        "  plt.subplot(1,3,2)\n",
        "  plt.title(\"$x2[n]$\")\n",
        "  plt.stem(n2, x2_n, 'b',use_line_collection=True)\n",
        "\n",
        "  plt.subplot(1,3,3)\n",
        "  plt.title(\"$y[n] = x1[n]*x2[n]$\")\n",
        "  plt.stem(n3, y_n, 'b',use_line_collection=True)\n",
        "\n",
        "  plt.tight_layout()\n",
        "  plt.show()"
      ],
      "execution_count": 159,
      "outputs": []
    },
    {
      "cell_type": "code",
      "metadata": {
        "colab": {
          "base_uri": "https://localhost:8080/",
          "height": 225
        },
        "id": "FbDA-JzLcDw_",
        "outputId": "d66060f7-6ed2-4055-d949-f36922515add"
      },
      "source": [
        "# Make sure to don't include any zero sample value before the first non-zero sample\n",
        "# Example: Invalid samples array: [0,0,1,0,-2,0,0] | It should look like: [1,0,-2,0,0]\n",
        "\n",
        "# Set first set of samples (x_n1 = value of the samples | n1 = indexes)\n",
        "x1_n = [2,1,1,0,0,1]\n",
        "n1 = [0,1,2,3,4,5]\n",
        "\n",
        "# Set second set of samples (x_n2 = value of the samples | n2 = indexes)\n",
        "x2_n = [2,1,1,0,0,1]\n",
        "n2 = [-3,-2,-1,0,1,2]\n",
        "\n",
        "convolution_plotter(x1_n,n1,x2_n,n2)"
      ],
      "execution_count": 160,
      "outputs": [
        {
          "output_type": "display_data",
          "data": {
            "image/png": "[encoded data removed]",
            "text/plain": [
              "<Figure size 1080x216 with 3 Axes>"
            ]
          },
          "metadata": {
            "tags": []
          }
        }
      ]
    }
  ]
}