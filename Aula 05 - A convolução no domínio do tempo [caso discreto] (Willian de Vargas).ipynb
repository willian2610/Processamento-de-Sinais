{
  "nbformat": 4,
  "nbformat_minor": 0,
  "metadata": {
    "colab": {
      "name": "Aula 05 - A convolução no domínio do tempo [caso discreto] (Willian de Vargas).ipynb",
      "provenance": [],
      "collapsed_sections": [],
      "authorship_tag": "ABX9TyOlz+PJuZpmSSjJMNHZcPwy",
      "include_colab_link": true
    },
    "kernelspec": {
      "name": "python3",
      "display_name": "Python 3"
    },
    "language_info": {
      "name": "python"
    }
  },
  "cells": [
    {
      "cell_type": "markdown",
      "metadata": {
        "id": "view-in-github",
        "colab_type": "text"
      },
      "source": [
        "<a href=\"https://colab.research.google.com/github/willian2610/Processamento-de-Sinais/blob/master/Aula%2005%20-%20A%20convolu%C3%A7%C3%A3o%20no%20dom%C3%ADnio%20do%20tempo%20%5Bcaso%20discreto%5D%20(Willian%20de%20Vargas).ipynb\" target=\"_parent\"><img src=\"https://colab.research.google.com/assets/colab-badge.svg\" alt=\"Open In Colab\"/></a>"
      ]
    },
    {
      "cell_type": "markdown",
      "metadata": {
        "id": "-CFCCQARe7bp"
      },
      "source": [
        "Material elaborado por Willian de Vargas, com base nos materiais disponibilizados pela Professora Dra. Carla Diniz L. Becker, durante as aulas de Processamento de Sinais, ministradas para o curso de Informática Biomédica da Universidade Federal de Ciências da Saúde de Porto Alegre."
      ]
    },
    {
      "cell_type": "markdown",
      "metadata": {
        "id": "s0zdcMYlHXi2"
      },
      "source": [
        "# Aula 05 - A convolução no domínio do tempo (caso discreto)"
      ]
    },
    {
      "cell_type": "markdown",
      "metadata": {
        "id": "ovFohWV_YXC3"
      },
      "source": [
        "#I. Teoria - A Convolução Discreta:"
      ]
    },
    {
      "cell_type": "markdown",
      "metadata": {
        "id": "eoCVxjOyLOow"
      },
      "source": [
        "### A Convolução:\n",
        "\n",
        "Convolução é o nome dado a uma operação matemática entre dois sinais, cuja saída é um terceiro sinal.\n",
        "\n",
        "Apesar da simplicidade das operações envolvidas - apenas multiplicações e somas (no caso discreto) - o conceiro de convolução é um dos mais importantes na área de Processamento de Sinais e Imagens.\n",
        "\n",
        "Todas as vezes em que desejamos calcular a saída de um Sistema Linear Invariante no Tempo (SLIT) para um sinal de entrada qualquer, devemos realizar uma operação de convolução entre o sinal de entrada e a resposta impulsional do SLIT.\n"
      ]
    },
    {
      "cell_type": "markdown",
      "metadata": {
        "id": "Wz3yYq1_MVkX"
      },
      "source": [
        "#### Representação de Sinais a Tempo Discreto como uma Soma de Impulsos\n",
        "\n",
        "Não é dificil perceber que qualquer sinal de tempo discreto pode ser escrito como uma soma (ponderada) de impulsos deslocados no tempo. Vejamos como exemplo o sinal $x[k]$ ilustrado na Figura 1."
      ]
    },
    {
      "cell_type": "markdown",
      "metadata": {
        "id": "rsWAlr3HMjP2"
      },
      "source": [
        "![image.png](data:image/png;base64,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)"
      ]
    },
    {
      "cell_type": "markdown",
      "metadata": {
        "id": "ktkzyAnIMozD"
      },
      "source": [
        "Observe que $x[k]$ possui apenas 5 termos não-nulos, que vão de $x[-2]$ a $x[2]$. Cada um desses termos pode ser interpretado como um impulso unitário deslocado no tempo e multiplicado por uma constante, o que nos leva a escrever $x[k]$ da forma:\n",
        "\n",
        "$$x[k]=1\\delta[k+2]+2\\delta[k+1]+3\\delta[k]+2\\delta[k-1]+1\\delta[k-2]$$\n",
        "\n",
        "A equação acima deixa claro que o coeficiente que multiplica o impulso no instante $k$ é o próprio valor do sinal $x$ no instante $k$, isto é, $x[k]$. Em um caso gebérico, poderíamos escrever:\n",
        "\n",
        "$$x[k]=...+x[-2]*\\delta[k+2]+x[-1]*\\delta[k+1]+x[0]*\\delta[k]+x[1]*\\delta[k-1]+x[2]*\\delta[k-2]+...$$\n",
        "\n",
        "O que é equivalente a escrever, em uma notação mais elegante e COMPACTA, a seguinte expressão: \n",
        "\n",
        "$$x[k]=\\sum\\limits_{n=-\\infty}^{+\\infty} x[n]*\\delta[k-n]$$\n",
        "\n",
        "Note que a soma infinita acima, no caso do sinal da Figura 1, é na realidade uma soma finita, pois apenas 5 termos da soma são não-nulos. Todos os demais termos da soma são zero.\n",
        "\n",
        "Na realidade, **ela é uma convolução!** Observe que a operação da convolução é uma soma de multiplicações entre termos (em nosso exemplo, entre o impulso no instante $k$ é o próprio valor do sinal $x$ no instante $k$) de cada um dos sinais.\n",
        "\n",
        "Falta agora chegar na convolução de um sinal $x[k]$ com outro sinal $h[k]$ qualquer.\n",
        "\n",
        "$$y[k]=\\sum\\limits_{n=-\\infty}^{+\\infty} x[k]*h[k-n]$$\n",
        "$$y[k]=x[k]*h[k]$$\n",
        "\n",
        "**Obs.:** $*$ é o símbolo matemático para a convolução.\n",
        "\n",
        "Observe que a convolução é uma soma de multiplicações entre termos de cada um dos sinais $x[k]$ e $h[k]$.\n"
      ]
    },
    {
      "cell_type": "markdown",
      "metadata": {
        "id": "h0NFKRXLQ0c2"
      },
      "source": [
        "As **propriedades matemáticas** de comutatividade, distributividade e associatividade também se aplicam à convlução de funções discretas, conforme apresentam as equações abaixo:\n",
        "\n",
        "* $x[n]*h[n]=h[n]*x[n]$\n",
        "\n",
        "* $x[n]*(y[n]+z[n]) = x[n]*y[n]+x[n]*z[n]$\n",
        "\n",
        "* $x[n]*(y[n]*z[n]) = (x[n]*y[n])*z[n]$"
      ]
    }
  ]
}